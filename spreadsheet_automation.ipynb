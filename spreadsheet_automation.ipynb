{
 "cells": [
  {
   "cell_type": "code",
   "execution_count": 2,
   "id": "e2c7e9a7",
   "metadata": {},
   "outputs": [
    {
     "ename": "ModuleNotFoundError",
     "evalue": "No module named 'pandas'",
     "output_type": "error",
     "traceback": [
      "\u001b[0;31m---------------------------------------------------------------------------\u001b[0m",
      "\u001b[0;31mModuleNotFoundError\u001b[0m                       Traceback (most recent call last)",
      "Cell \u001b[0;32mIn [2], line 1\u001b[0m\n\u001b[0;32m----> 1\u001b[0m \u001b[39mimport\u001b[39;00m \u001b[39mpandas\u001b[39;00m \u001b[39mas\u001b[39;00m \u001b[39mpd\u001b[39;00m\n\u001b[1;32m      2\u001b[0m \u001b[39mimport\u001b[39;00m \u001b[39mnumpy\u001b[39;00m \u001b[39mas\u001b[39;00m \u001b[39mnp\u001b[39;00m\n\u001b[1;32m      3\u001b[0m \u001b[39mimport\u001b[39;00m \u001b[39mmatplotlib\u001b[39;00m\u001b[39m.\u001b[39;00m\u001b[39mpyplot\u001b[39;00m \u001b[39mas\u001b[39;00m \u001b[39mplt\u001b[39;00m\n",
      "\u001b[0;31mModuleNotFoundError\u001b[0m: No module named 'pandas'"
     ]
    }
   ],
   "source": [
    "import pandas as pd\n",
    "import numpy as np\n",
    "import matplotlib.pyplot as plt"
   ]
  },
  {
   "cell_type": "code",
   "execution_count": 4,
   "id": "959a39b4",
   "metadata": {},
   "outputs": [
    {
     "name": "stdout",
     "output_type": "stream",
     "text": [
      "    Shift  Clock Number      Name    Product  Production Run Time (Min)  \\\n",
      "0       1        123654      Pete  Pepperoni                         46   \n",
      "1       1        123498     Abdul     Cheese                         56   \n",
      "2       1        123999      Emma   Mushroom                         42   \n",
      "3       1        123654      Pete  Pepperoni                         47   \n",
      "4       1        123498     Abdul   Mushroom                         54   \n",
      "5       1        123865  Mohammed     Cheese                         55   \n",
      "6       1        123999      Emma     Cheese                         54   \n",
      "7       1        123654      Pete    Sausage                         29   \n",
      "8       1        123865  Mohammed  Pepperoni                         36   \n",
      "9       1        123999      Emma   Mushroom                         44   \n",
      "10      1        123498     Abdul     Cheese                         40   \n",
      "11      1        123654      Pete    Sausage                         38   \n",
      "12      1        123654      Pete  Pepperoni                         47   \n",
      "13      1        123765     Sofie   Mushroom                         55   \n",
      "14      1        123445      Mike     Cheese                         39   \n",
      "15      1        123999      Emma    Sausage                         47   \n",
      "16      1        123765     Sofie   Mushroom                         43   \n",
      "17      1        123865  Mohammed  Pepperoni                         44   \n",
      "18      1        123445      Mike     Cheese                         57   \n",
      "19      1        123498     Abdul    Sausage                         55   \n",
      "20      1        123654      Pete   Mushroom                         50   \n",
      "21      1        123765     Sofie    Sausage                         49   \n",
      "22      1        123445      Mike  Pepperoni                         38   \n",
      "23      1        123999      Emma     Cheese                         44   \n",
      "24      1        123865  Mohammed   Mushroom                         43   \n",
      "25      1        123865  Mohammed  Pepperoni                         33   \n",
      "26      1        123765     Sofie     Cheese                         39   \n",
      "27      1        123498     Abdul    Sausage                         42   \n",
      "28      1        123654      Pete   Mushroom                         30   \n",
      "\n",
      "    Products Produced (Units)  \n",
      "0                         107  \n",
      "1                          20  \n",
      "2                          65  \n",
      "3                          83  \n",
      "4                          58  \n",
      "5                          51  \n",
      "6                           8  \n",
      "7                          65  \n",
      "8                          79  \n",
      "9                          31  \n",
      "10                         33  \n",
      "11                         89  \n",
      "12                         90  \n",
      "13                         17  \n",
      "14                         82  \n",
      "15                         33  \n",
      "16                         46  \n",
      "17                        134  \n",
      "18                         49  \n",
      "19                         38  \n",
      "20                         46  \n",
      "21                         20  \n",
      "22                         67  \n",
      "23                         40  \n",
      "24                         17  \n",
      "25                         62  \n",
      "26                         51  \n",
      "27                         14  \n",
      "28                         85  \n",
      "0     Pepperoni\n",
      "1        Cheese\n",
      "2      Mushroom\n",
      "3     Pepperoni\n",
      "4      Mushroom\n",
      "5        Cheese\n",
      "6        Cheese\n",
      "7       Sausage\n",
      "8     Pepperoni\n",
      "9      Mushroom\n",
      "10       Cheese\n",
      "11      Sausage\n",
      "12    Pepperoni\n",
      "13     Mushroom\n",
      "14       Cheese\n",
      "15      Sausage\n",
      "16     Mushroom\n",
      "17    Pepperoni\n",
      "18       Cheese\n",
      "19      Sausage\n",
      "20     Mushroom\n",
      "21      Sausage\n",
      "22    Pepperoni\n",
      "23       Cheese\n",
      "24     Mushroom\n",
      "25    Pepperoni\n",
      "26       Cheese\n",
      "27      Sausage\n",
      "28     Mushroom\n",
      "Name: Product, dtype: object\n",
      "    Shift  Clock Number       Name    Product  Production Run Time (Min)  \\\n",
      "0       1        123654       Pete  Pepperoni                         46   \n",
      "1       1        123498      Abdul     Cheese                         56   \n",
      "2       1        123999       Emma   Mushroom                         42   \n",
      "3       1        123654       Pete  Pepperoni                         47   \n",
      "4       1        123498      Abdul   Mushroom                         54   \n",
      "..    ...           ...        ...        ...                        ...   \n",
      "24      3        322488  Gabrielle   Mushroom                         42   \n",
      "25      3        322486       Omar   Mushroom                         43   \n",
      "26      3        322976      Chuck     Cheese                         47   \n",
      "27      3        322488  Gabrielle    Sausage                         45   \n",
      "28      3        322976      Chuck  Pepperoni                         44   \n",
      "\n",
      "    Products Produced (Units)  \n",
      "0                         107  \n",
      "1                          20  \n",
      "2                          65  \n",
      "3                          83  \n",
      "4                          58  \n",
      "..                        ...  \n",
      "24                        134  \n",
      "25                        132  \n",
      "26                        143  \n",
      "27                        136  \n",
      "28                        132  \n",
      "\n",
      "[87 rows x 6 columns]\n",
      "       Production Run Time (Min)  Products Produced (Units)\n",
      "Shift                                                      \n",
      "1                      44.689655                  54.482759\n",
      "2                      43.689655                  80.103448\n",
      "3                      43.034483                 128.448276\n"
     ]
    },
    {
     "data": {
      "image/png": "[encoded data removed]",
      "text/plain": [
       "<Figure size 432x288 with 1 Axes>"
      ]
     },
     "metadata": {
      "needs_background": "light"
     },
     "output_type": "display_data"
    }
   ],
   "source": [
    "excel_file_1 = 'shift-data.xlsx'\n",
    "excel_file_2 = 'third-shift-data.xlsx'\n",
    "df_first_shift= pd.read_excel(excel_file_1, sheet_name= 'first')\n",
    "df_second_shift= pd.read_excel(excel_file_1, sheet_name= 'second')\n",
    "df_third_shift= pd.read_excel(excel_file_2)\n",
    "print(df_first_shift)\n",
    "print(df_first_shift['Product'])\n",
    "\n",
    "df_all=pd.concat([df_first_shift, df_second_shift, df_third_shift])\n",
    "print(df_all)\n",
    "pivot= df_all.groupby(['Shift']).mean()\n",
    "shift_productivity =pivot.loc[:,'Production Run Time (Min)':'Products Produced (Units)']\n",
    "print(shift_productivity)\n",
    "shift_productivity.plot(kind='bar')\n",
    "plt.show()\n",
    "\n",
    "# df_all.to_excel(\"output.xlsx\")"
   ]
  },
  {
   "cell_type": "code",
   "execution_count": null,
   "id": "f5bf4831",
   "metadata": {},
   "outputs": [],
   "source": []
  }
 ],
 "metadata": {
  "kernelspec": {
   "display_name": "Python 3.10.7 64-bit",
   "language": "python",
   "name": "python3"
  },
  "language_info": {
   "codemirror_mode": {
    "name": "ipython",
    "version": 3
   },
   "file_extension": ".py",
   "mimetype": "text/x-python",
   "name": "python",
   "nbconvert_exporter": "python",
   "pygments_lexer": "ipython3",
   "version": "3.10.7"
  },
  "vscode": {
   "interpreter": {
    "hash": "aee8b7b246df8f9039afb4144a1f6fd8d2ca17a180786b69acc140d282b71a49"
   }
  }
 },
 "nbformat": 4,
 "nbformat_minor": 5
}
